{
 "cells": [
  {
   "cell_type": "markdown",
   "metadata": {},
   "source": [
    "# Сервис по составлению меню питания на каждый день\n",
    "\n",
    "Рабочее название `menu del dia`, `menu_del_dia_bot`"
   ]
  },
  {
   "cell_type": "markdown",
   "metadata": {},
   "source": [
    "## Описание функционала\n",
    "**Концепция**\n",
    "* Это будет телеграм-бот (или email-рассылка), который высылает каждый вечер список блюд и их рецепты на следующий день, а возможно, и примерные расходы не продукты.\n",
    "* Саначала нужно пройти опрос (в будущем после успешного опробования MVP):\n",
    "    * на сколько дней в неделю выдать меню (1, 2,..., 7);\n",
    "    * с какаого дня начинаем готовить (завтра, послезавтра, через неделю)\n",
    "    * на сколько человек рассчитывать (или сколько порций);\n",
    "    * едите или не едите мясо, грибы, мясо птицы, морепродукты (креветки, мидии), рыба белая, красная;\n",
    "    * добавить фрукт на завтрак?\n",
    "    * какие блюда в обеде: салат, суп, горячее (второе);\n",
    "    * какие блюда в ужине: салат, суп, горячее (второе).\n",
    "* В первом сообщении (перед началом 7 дневного периода) будет отправлено на ознакомление:\n",
    "    * список блюда на каждый день с разделением на завтрак, обед и ужин;\n",
    "    * список необходимых продуктов и их количество.\n",
    "    * примерные затраты на питание на неделю (нужен предварительный ввод цен на продукты)\n",
    "* Дисклеймер про аллергию и т.п.\n",
    "* Куда писать отзывы и предложения: google-форма для конструктивной критики с заранее заданной структурой (или бот) или прям почту.\n",
    "\n",
    "**Маинфест**\n",
    "1. Я решаю свою проблему и мне неважно, что подобный софт уже есть. \n",
    "2. Хочу чтобы программа была такой, как я хочу. Хочу чтобы программа \n",
    "    * включала в себя только проверенные и опробованные мною блюда;\n",
    "    * была в удобном для меня виде - телеграмм бот с минималистичным текстом и понятной последовательностью действий;\n",
    "    * составляла список покупок на неделю вперёд.\n",
    "    \n",
    "**Идеи на будущее**\n",
    "0. Нужно сделать генерировать список рецптов заранее и прописывать их в лог. При перезапуске сервера нужно начать с того же места и не отправлять заново то, что уже отправлено.\n",
    "1. Возможность ставить лайки и дислайки. Куда-то сохранять эти реакции и ещё какую-нибудь добровольно полученную информацию о пользователях (пол, возраст, дети, регион)Потом давать чаще блюда с лайками.\n",
    "2. Расчёт трат на продукты.\n",
    "3. ML: рекомендации блюд. Это как в IVI: выбери 5...10 фильмов, и сделаем тебе рекомендации. Или сразу рекомендовать блюда, которые понравились таким же пользователям или ещё как-нибудь.\n",
    "4. Время подготовки продуктов, время приготовления блюда. Можно поэкспериментировать и сделать модель, напрмиер `время = количество лукавиц * время резки одной лукавицы + количество каортофелин * время резки одной картофелины`  \n",
    "5. Подсчёт калорий (это в самый хваост списка, т.к. мне это не нужно).\n",
    "6. Возможность повторов блюд на неделе (True / False) или конкретное заданеи возможного количества повторов в виде числа.\n",
    "7. Почитать https://journal.tinkoff.ru/list/chto-est/"
   ]
  },
  {
   "cell_type": "markdown",
   "metadata": {},
   "source": [
    "## Типы блюд для MVP\n",
    "\n",
    "Классификация по времени:\n",
    "* Завтраки\n",
    "* Обеды и ужины\n",
    "\n",
    "Классификация по типу\n",
    "* Салаты\n",
    "* Супы\n",
    "* Горячее"
   ]
  },
  {
   "cell_type": "markdown",
   "metadata": {},
   "source": [
    "## Добыча рецептов\n",
    "\n",
    "Всё вручную, т.к. нужно опробовать, переделать и переписать."
   ]
  },
  {
   "cell_type": "markdown",
   "metadata": {},
   "source": [
    "## База данных рецептов"
   ]
  },
  {
   "cell_type": "markdown",
   "metadata": {},
   "source": [
    "### Создание"
   ]
  },
  {
   "cell_type": "code",
   "execution_count": 30,
   "metadata": {},
   "outputs": [],
   "source": [
    "import pandas as pd\n",
    "import sqlite3"
   ]
  },
  {
   "cell_type": "code",
   "execution_count": 4,
   "metadata": {},
   "outputs": [],
   "source": [
    "path = '..\\\\db\\\\recipies.xlsx'"
   ]
  },
  {
   "cell_type": "code",
   "execution_count": 20,
   "metadata": {},
   "outputs": [
    {
     "data": {
      "text/plain": [
       "Index(['recipe_id', 'food_category_id', 'meal_type_id', 'recipe_name',\n",
       "       'prep_time', 'cook_time', 'recipe_steps', 'link_to_original'],\n",
       "      dtype='object')"
      ]
     },
     "execution_count": 20,
     "metadata": {},
     "output_type": "execute_result"
    }
   ],
   "source": [
    "df_recipes = pd.read_excel(path, sheet_name='recipe')\n",
    "df_recipes.columns"
   ]
  },
  {
   "cell_type": "code",
   "execution_count": 9,
   "metadata": {},
   "outputs": [
    {
     "data": {
      "text/plain": [
       "Index(['food_category_id', 'food_category_name'], dtype='object')"
      ]
     },
     "execution_count": 9,
     "metadata": {},
     "output_type": "execute_result"
    }
   ],
   "source": [
    "df_food_category = pd.read_excel(path, sheet_name='food_category')\n",
    "df_food_category.columns"
   ]
  },
  {
   "cell_type": "code",
   "execution_count": 10,
   "metadata": {},
   "outputs": [
    {
     "data": {
      "text/plain": [
       "Index(['meal_type_id', 'meal_type_name'], dtype='object')"
      ]
     },
     "execution_count": 10,
     "metadata": {},
     "output_type": "execute_result"
    }
   ],
   "source": [
    "df_meal_type = pd.read_excel(path, sheet_name='meal_type')\n",
    "df_meal_type.columns"
   ]
  },
  {
   "cell_type": "code",
   "execution_count": 13,
   "metadata": {},
   "outputs": [
    {
     "data": {
      "text/plain": [
       "Index(['ingredient_id', 'ingredient_name'], dtype='object')"
      ]
     },
     "execution_count": 13,
     "metadata": {},
     "output_type": "execute_result"
    }
   ],
   "source": [
    "df_ingredients = pd.read_excel(path, sheet_name='ingredients')\n",
    "df_ingredients.columns"
   ]
  },
  {
   "cell_type": "code",
   "execution_count": 17,
   "metadata": {},
   "outputs": [
    {
     "data": {
      "text/plain": [
       "Index(['recipe_id', 'ingredient_id', 'ingredient_qty', 'measurement_id'], dtype='object')"
      ]
     },
     "execution_count": 17,
     "metadata": {},
     "output_type": "execute_result"
    }
   ],
   "source": [
    "df_recipe_ingredients = pd.read_excel(\n",
    "    path, sheet_name='recipe_ingredients',\n",
    "    names=['recipe_id', 'ingredient_id', 'ingredient_qty', 'measurement_id']\n",
    ")\n",
    "df_recipe_ingredients.columns"
   ]
  },
  {
   "cell_type": "code",
   "execution_count": 31,
   "metadata": {},
   "outputs": [],
   "source": [
    "# Create SQLite database connection\n",
    "conn = sqlite3.connect('..\\\\db\\\\recipes.db')\n",
    "\n",
    "# Write DataFrames to SQLite tables\n",
    "df_recipes.to_sql('recipe', conn, index=False, if_exists='replace')\n",
    "df_food_category.to_sql('food_category', conn, index=False, if_exists='replace')\n",
    "df_meal_type.to_sql('meal_type', conn, index=False, if_exists='replace')\n",
    "df_ingredients.to_sql('ingredients', conn, index=False, if_exists='replace')\n",
    "df_recipe_ingredients.to_sql('recipe_ingredients', conn, index=False, if_exists='replace')\n",
    "df_measurements.to_sql('measurements', conn, index=False, if_exists='replace')\n",
    "\n",
    "# Close database connection\n",
    "conn.close()"
   ]
  },
  {
   "cell_type": "code",
   "execution_count": 36,
   "metadata": {},
   "outputs": [
    {
     "name": "stdout",
     "output_type": "stream",
     "text": [
      "0 (1, 'Хлопья кукурузные с молоком')\n",
      "1 (2, 'Гранола с йогуртом')\n",
      "2 (3, 'Оладьи без яиц')\n",
      "3 (4, 'Манная каша на молоке')\n",
      "4 (5, 'Рисовая каша на молоке')\n",
      "5 (6, 'Гречневая каша с молоком')\n",
      "6 (7, 'Овсяная каша на молоке')\n",
      "7 (8, 'Яйца в смятку')\n",
      "8 (9, 'Омлет')\n",
      "9 (10, 'Сырники жареные')\n",
      "10 (11, 'Сырники печёные')\n",
      "11 (12, 'Творожная запеканка')\n",
      "12 (13, 'Пшённая каша на молоке')\n",
      "13 (14, 'Блины со сметаной')\n",
      "14 (15, 'Салат «Витаминный»')\n",
      "15 (16, 'Салат «Греческий»')\n",
      "16 (17, 'Салат «Винегрет»')\n",
      "17 (18, 'Салат «Цезарь»')\n",
      "18 (19, 'Салат «Оливье»')\n",
      "19 (20, 'Салат «Мимоза»')\n",
      "20 (21, 'Салат «Сельдь под шубой»')\n",
      "21 (22, 'Салат свекольный с чесноком')\n",
      "22 (23, 'Суп-пюре с шампиньонами и картофелем')\n",
      "23 (24, 'Томатный суп с фрикадельками')\n",
      "24 (25, 'Борщ с индейкой')\n",
      "25 (26, 'Суп с фрикадельками из индейки и шпинатом')\n",
      "26 (27, 'Суп с фрикадельками из индейки и фасолью')\n",
      "27 (28, 'Суп с курицей, стручковой фасолью и грибами')\n",
      "28 (29, 'Уха по-фински')\n",
      "29 (30, 'Тыквенный крем-суп')\n",
      "30 (31, 'Суп-пюре с брокколи и куриным филе')\n",
      "31 (32, 'Сырный суп')\n",
      "32 (33, 'Курица в соусе тирияки с рисом')\n",
      "33 (34, 'Капуста с куриным филе')\n",
      "34 (35, 'Паста карбонара')\n",
      "35 (36, 'Ризотто с морепродуктами')\n",
      "36 (37, 'Плов с индейкой')\n",
      "37 (38, 'Стейки из форели с рисом')\n",
      "38 (39, 'Бефстроганоф с пюре')\n",
      "39 (40, 'Запеченые стейки из форели с пюре')\n",
      "40 (41, 'Картофель по-деревенски и куриные ножки в духовке')\n",
      "41 (42, 'Жаркое (картошка с мясом)')\n",
      "42 (43, 'Горшочки с мясом и картофелем')\n",
      "43 (44, 'Треска под сливочно-шпинатным соусом')\n",
      "44 (45, 'Горшочки с мясом, фасолью и грибами')\n",
      "45 (46, 'Куриные ножки тушеные с нутом и томатами')\n",
      "46 (47, 'Творог с вареньем')\n",
      "47 (48, 'Солянка')\n"
     ]
    }
   ],
   "source": [
    "# Example query: Retrieve all recipes with their names and preparation times\n",
    "\n",
    "# Create SQLite database connection\n",
    "conn = sqlite3.connect('..\\\\db\\\\recipes.db')\n",
    "\n",
    "# Create a cursor object to interact with the database\n",
    "cursor = conn.cursor()\n",
    "cursor.execute('SELECT recipe_id, recipe_name FROM recipe')\n",
    "\n",
    "# Fetch all rows from the result set\n",
    "rows = cursor.fetchall()\n",
    "\n",
    "# Print the fetched rows\n",
    "for i, row in enumerate(rows):\n",
    "    print(i, row)\n",
    "\n",
    "# Close cursor and database connection\n",
    "cursor.close()\n",
    "conn.close()"
   ]
  },
  {
   "cell_type": "markdown",
   "metadata": {},
   "source": [
    "### Работа с базой"
   ]
  },
  {
   "cell_type": "code",
   "execution_count": null,
   "metadata": {},
   "outputs": [],
   "source": []
  },
  {
   "cell_type": "code",
   "execution_count": null,
   "metadata": {},
   "outputs": [],
   "source": []
  },
  {
   "cell_type": "code",
   "execution_count": 34,
   "metadata": {},
   "outputs": [],
   "source": [
    "con = sqlite3.connect('../db/recipes.db')\n",
    "cur = con.cursor()"
   ]
  },
  {
   "cell_type": "code",
   "execution_count": 13,
   "metadata": {},
   "outputs": [
    {
     "name": "stdout",
     "output_type": "stream",
     "text": [
      "фарш из мяса индейки - 125.0 г\n",
      "картофель - 125.0 г\n",
      "подмидор - 87.5 г\n",
      "болгарский перец - 50.0 г\n",
      "томатная паста - 37.5 г\n",
      "лук репчатый - 37.5 г\n",
      "молотая паприка - 1.75 г\n",
      "сушёный укроп, лук и петрушка - 1.75 г\n",
      "соль - 0 г\n",
      "перец горошком - 0 г\n",
      "растительное масло - 0 г\n"
     ]
    }
   ],
   "source": [
    "# сколько порций? \n",
    "n = 4\n",
    "recipe_name = 'Томатный суп с фрикадельками'\n",
    "for ing, mass, in zip(db[recipe_name]['ingridients'], db[recipe_name]['ingredient_quantity']):\n",
    "    print(ing, '-', n * mass, 'г')"
   ]
  },
  {
   "cell_type": "markdown",
   "metadata": {},
   "source": [
    "## Запуск скрипта по распианию\n",
    "\n",
    "https://www.geeksforgeeks.org/scheduling-python-scripts-on-linux/"
   ]
  },
  {
   "cell_type": "markdown",
   "metadata": {},
   "source": [
    "To automate the script using CRON, you can modify the script to execute the desired functionality and then create a CRON job to run the script at specific intervals. Here's the modified version of the Python script that should be run using CRON:\n",
    "\n",
    "\n",
    "### Setting Up CRON Job:\n",
    "\n",
    "1. Open your terminal or SSH into your server.\n",
    "2. Open the CRON table for editing using the command:\n",
    "   ```\n",
    "   crontab -e\n",
    "   ```\n",
    "3. Add a new CRON job to schedule the script to run every day at a specific time. For example, to run the script every day at 6 PM, add the following line to the CRON table:\n",
    "   ```\n",
    "   0 18 * * * /path/to/python3 /path/to/recipe_bot.py\n",
    "   ```\n",
    "   Replace `/path/to/python3` with the path to your Python 3 interpreter and `/path/to/recipe_bot.py` with the full path to your Python script.\n",
    "4. Save and exit the editor.\n",
    "\n",
    "Now, the CRON job will run the `recipe_bot.py` script every day at 6 PM. Make sure to adjust the CRON schedule and file paths according to your requirements and server setup."
   ]
  },
  {
   "cell_type": "markdown",
   "metadata": {},
   "source": [
    "In this script, sent recipes are logged in a file named recipe_bot.log along with timestamps. The get_last_sent_timestamp function reads the log file to retrieve the timestamp of the last sent recipe, allowing the script to resume sending recipes from the correct point.\n",
    "\n",
    "Make sure to adjust the log file path, log format, and content according to your specific requirements. This approach simplifies the setup and provides a straightforward way to maintain a history of sent recipes."
   ]
  },
  {
   "cell_type": "code",
   "execution_count": null,
   "metadata": {},
   "outputs": [],
   "source": [
    "import os\n",
    "import random\n",
    "import logging\n",
    "from datetime import datetime, timedelta\n",
    "from telegram import Bot\n",
    "\n",
    "# Configure logging\n",
    "logging.basicConfig(filename='recipe_bot.log', level=logging.INFO, format='%(asctime)s - %(levelname)s - %(message)s')\n",
    "\n",
    "# Define SQLite queries\n",
    "GET_WEEKLY_RECIPES = 'SELECT recipe_name FROM recipes ORDER BY RANDOM() LIMIT 7'\n",
    "GET_DAILY_RECIPES = 'SELECT recipe_name FROM recipes ORDER BY RANDOM() LIMIT 3'\n",
    "\n",
    "# Define Telegram bot token and chat ID\n",
    "TELEGRAM_TOKEN = 'YOUR_TELEGRAM_BOT_TOKEN'\n",
    "CHAT_ID = 'YOUR_CHAT_ID'\n",
    "\n",
    "# Helper function to send messages\n",
    "def send_message(recipes):\n",
    "    bot = Bot(token=TELEGRAM_TOKEN)\n",
    "    message = \"\\n\".join(recipes)\n",
    "    bot.send_message(chat_id=CHAT_ID, text=message)\n",
    "    # Log sent recipes\n",
    "    logging.info(f'Sent recipes: {recipes}')\n",
    "\n",
    "# Get last sent recipe timestamp from the log file\n",
    "def get_last_sent_timestamp():\n",
    "    try:\n",
    "        with open('recipe_bot.log', 'r') as log_file:\n",
    "            lines = log_file.readlines()\n",
    "            if lines:\n",
    "                last_line = lines[-1]\n",
    "                timestamp_str = last_line.split(' - ')[0]\n",
    "                return datetime.strptime(timestamp_str, '%Y-%m-%d %H:%M:%S,%f')\n",
    "    except FileNotFoundError:\n",
    "        pass\n",
    "    return None\n",
    "\n",
    "# Get weekly recipes and send them\n",
    "def send_weekly_recipes():\n",
    "    recipes = cursor.execute(GET_WEEKLY_RECIPES).fetchall()\n",
    "    recipes = [recipe[0] for recipe in recipes]\n",
    "    send_message(recipes)\n",
    "\n",
    "# Get daily recipes and send them\n",
    "def send_daily_recipes():\n",
    "    recipes = cursor.execute(GET_DAILY_RECIPES).fetchall()\n",
    "    recipes = [recipe[0] for recipe in recipes]\n",
    "    send_message(recipes)\n",
    "\n",
    "# Check current day and send appropriate recipes\n",
    "current_day = datetime.now().weekday()\n",
    "\n",
    "last_sent_timestamp = get_last_sent_timestamp()\n",
    "\n",
    "if current_day == 6:  # Sunday (Index 6 in Python's datetime)\n",
    "    send_weekly_recipes()\n",
    "else:\n",
    "    if last_sent_timestamp is None or (datetime.now() - last_sent_timestamp).days > 1:\n",
    "        send_daily_recipes()\n"
   ]
  },
  {
   "cell_type": "markdown",
   "metadata": {},
   "source": [
    "## Восстановаление после аварийного завершения программы"
   ]
  },
  {
   "cell_type": "markdown",
   "metadata": {},
   "source": [
    "Нужно подготовиться к выключению сервера.\n",
    "\n",
    "`random_state` должно быть задано конкретным числом\n",
    "\n",
    "Можно каждое \n",
    "* расписание на неделю\n",
    "* каждое отправленное сообщение \n",
    "логировать и ввести счётчики отработавших циклов. \n",
    "\n",
    "После перезапуска програмы отпарвить сообщение и сбое на сервере и начать пролграмму с тех значений счётчика, на которых программа остановилась в прошлый раз - эти значения можно взять из логов.\n",
    "\n",
    "А как быть когда много пользователей? В логах прописывать ещё и id пользователей"
   ]
  },
  {
   "cell_type": "markdown",
   "metadata": {},
   "source": [
    "## Ссылки, которые помогли\n",
    "* https://realpython.com/beautiful-soup-web-scraper-python/\n",
    "* https://dbeaver.com/2022/06/23/import-data-with-dbeaver/\n",
    "* https://stackoverflow.com/questions/38463361/creating-a-recipe-database\n",
    "* https://stackoverflow.com/questions/54005899/how-do-i-properly-design-a-data-model-for-recipe-ingredient-using-mongodb\n",
    "* https://infoeda.com/skolko-v-stolovoj-lozhke-gramm-i-millilitrov-tablica.html"
   ]
  },
  {
   "cell_type": "markdown",
   "metadata": {},
   "source": [
    "## Затраченное время\n"
   ]
  },
  {
   "cell_type": "markdown",
   "metadata": {},
   "source": [
    "## Чему научился:\n",
    "1. проектирование базы данных;\n",
    "2. использвоание SQL-запросов к базе данных в Python-коде;\n",
    "3. использование DBeaver в качестве СУБД;\n"
   ]
  },
  {
   "cell_type": "code",
   "execution_count": null,
   "metadata": {},
   "outputs": [],
   "source": []
  }
 ],
 "metadata": {
  "kernelspec": {
   "display_name": "Python 3 (ipykernel)",
   "language": "python",
   "name": "python3"
  },
  "language_info": {
   "codemirror_mode": {
    "name": "ipython",
    "version": 3
   },
   "file_extension": ".py",
   "mimetype": "text/x-python",
   "name": "python",
   "nbconvert_exporter": "python",
   "pygments_lexer": "ipython3",
   "version": "3.11.7"
  },
  "toc": {
   "base_numbering": 1,
   "nav_menu": {},
   "number_sections": true,
   "sideBar": true,
   "skip_h1_title": true,
   "title_cell": "Table of Contents",
   "title_sidebar": "Contents",
   "toc_cell": false,
   "toc_position": {},
   "toc_section_display": true,
   "toc_window_display": true
  },
  "varInspector": {
   "cols": {
    "lenName": 16,
    "lenType": 16,
    "lenVar": 40
   },
   "kernels_config": {
    "python": {
     "delete_cmd_postfix": "",
     "delete_cmd_prefix": "del ",
     "library": "var_list.py",
     "varRefreshCmd": "print(var_dic_list())"
    },
    "r": {
     "delete_cmd_postfix": ") ",
     "delete_cmd_prefix": "rm(",
     "library": "var_list.r",
     "varRefreshCmd": "cat(var_dic_list()) "
    }
   },
   "types_to_exclude": [
    "module",
    "function",
    "builtin_function_or_method",
    "instance",
    "_Feature"
   ],
   "window_display": false
  }
 },
 "nbformat": 4,
 "nbformat_minor": 4
}
