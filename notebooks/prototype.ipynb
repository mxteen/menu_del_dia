{
 "cells": [
  {
   "cell_type": "markdown",
   "metadata": {},
   "source": [
    "# Сервис по составлению меню питания на каждый день\n",
    "\n",
    "Рабочее название `menu del dia`, `menu_del_dia_bot`"
   ]
  },
  {
   "cell_type": "markdown",
   "metadata": {},
   "source": [
    "## Описание функционала\n",
    "**Концепция**\n",
    "* Это будет телеграм-бот (или email-рассылка), который высылает каждый вечер список блюд и их рецепты на следующий день, а возможно, и примерные расходы не продукты.\n",
    "* Саначала нужно пройти опрос (в будущем после успешного опробования MVP):\n",
    "    * на сколько дней в неделю выдать меню (1, 2,..., 7);\n",
    "    * с какаого дня начинаем готовить (завтра, послезавтра, через неделю)\n",
    "    * на сколько человек рассчитывать (или сколько порций);\n",
    "    * едите или не едите мясо, грибы, мясо птицы, морепродукты (креветки, мидии), рыба белая, красная;\n",
    "    * добавить фрукт на завтрак?\n",
    "    * какие блюда в обеде: салат, суп, горячее (второе);\n",
    "    * какие блюда в ужине: салат, суп, горячее (второе).\n",
    "* В первом сообщении (перед началом 7 дневного периода) будет отправлено на ознакомление:\n",
    "    * список блюда на каждый день с разделением на завтрак, обед и ужин;\n",
    "    * список необходимых продуктов и их количество.\n",
    "    * примерные затраты на питание на неделю (нужен предварительный ввод цен на продукты)\n",
    "* Дисклеймер про аллергию и т.п.\n",
    "* Куда писать отзывы и предложения: google-форма для конструктивной критики с заранее заданной структурой (или бот) или прям почту.\n",
    "\n",
    "**Маинфест**\n",
    "1. Я решаю свою проблему и мне неважно, что подобный софт уже есть. \n",
    "2. Хочу чтобы программа была такой, как я хочу. Хочу чтобы программа \n",
    "    * включала в себя только проверенные и опробованные мною блюда;\n",
    "    * была в удобном для меня виде - телеграмм бот с минималистичным текстом и понятной последовательностью действий;\n",
    "    * составляла список покупок на неделю вперёд.\n",
    "    \n",
    "**Идеи на будущее**\n",
    "0. Нужно сделать генерировать список рецптов заранее и прописывать их в лог. При перезапуске сервера нужно начать с того же места и не отправлять заново то, что уже отправлено.\n",
    "1. Возможность ставить лайки и дислайки. Куда-то сохранять эти реакции и ещё какую-нибудь добровольно полученную информацию о пользователях (пол, возраст, дети, регион)Потом давать чаще блюда с лайками.\n",
    "2. Расчёт трат на продукты.\n",
    "3. ML: рекомендации блюд. Это как в IVI: выбери 5...10 фильмов, и сделаем тебе рекомендации. Или сразу рекомендовать блюда, которые понравились таким же пользователям или ещё как-нибудь.\n",
    "4. Время подготовки продуктов, время приготовления блюда. Можно поэкспериментировать и сделать модель, напрмиер `время = количество лукавиц * время резки одной лукавицы + количество каортофелин * время резки одной картофелины`  \n",
    "5. Подсчёт калорий (это в самый хваост списка, т.к. мне это не нужно).\n",
    "6. Возможность повторов блюд на неделе (True / False) или конкретное заданеи возможного количества повторов в виде числа.\n",
    "7. Почитать https://journal.tinkoff.ru/list/chto-est/"
   ]
  },
  {
   "cell_type": "markdown",
   "metadata": {},
   "source": [
    "## Типы блюд для MVP\n",
    "\n",
    "Классификация по времени:\n",
    "* Завтраки\n",
    "* Обеды и ужины\n",
    "\n",
    "Классификация по типу\n",
    "* Салаты\n",
    "* Супы\n",
    "* Горячее"
   ]
  },
  {
   "cell_type": "markdown",
   "metadata": {
    "jp-MarkdownHeadingCollapsed": true
   },
   "source": [
    "## Алгоритм для MVP\n",
    "\n",
    "1. В конце каждой недели генерируется меню на следующую неделю.\n",
    "\n",
    "   - Из базы выбирается n_days=7 случайных блюд\n",
    "       - из категории \"Завтраки\" (`meal_type.meal_type_name = 'Завтрак'`)\n",
    "       - из категории \"Обеды\" (`meal_type.meal_type_name = 'Обед или ужин'`)\n",
    "       - из категории \"Ужины\" (`meal_type.meal_type_name = 'Обед или ужин'`)\n",
    "   - Формируем списки из id блюд и записываем их во временный файл (он нужен, чтобы восстановить план на неделю в случае отключения сервера и его перезагрузки). В файле проставляем дату его изменения (?).\n",
    "   - Если дата изменения файла не старше 7 дней, то используем его в качестве источника для формирования запросов, иначе генерируем новый.\n",
    "3. Высылаем сообщения.\n",
    "    1. Высылается меню в виде списка блюд: `ЗАВТРАКИ: ... ОБЕДЫ: УЖИНЫ: ...` \n",
    "    2. Высылается список покупок в виде списка продуктов и количества.\n",
    "    3. Высылается полное меню на завтра: тип, название, рецепт.\n",
    "    4. Ждём 24 часа и высылаем меню на следующий день и так до следующего конца недели.\n",
    "\n",
    "- #TODO: Нужен UI: с какого дня недели начинать\n",
    "- #TODO: Нужен UI: Нужно выбрать, на какие именно дни присылать рецепты, необязательно гототвить 7 дней в неделю (`n_days`).\n",
    "- #TODO: Нужен UI: Нужно выбрирать, какие прдукты пользователь ест или не ест (`preferred_ingredients`).\n",
    "- #TODO: Разные блюда на обед и ужин.\n",
    "- #TODO: Вместо временного файла с планом на неделю записывать этот план в базу данных пользователей. \n",
    "- #TODO: \n",
    "- #TODO: \n",
    "- #TODO:"
   ]
  },
  {
   "cell_type": "markdown",
   "metadata": {},
   "source": [
    "## Добыча рецептов\n",
    "\n",
    "Всё вручную, т.к. нужно опробовать, переделать и переписать."
   ]
  },
  {
   "cell_type": "markdown",
   "metadata": {},
   "source": [
    "## База данных рецептов"
   ]
  },
  {
   "cell_type": "markdown",
   "metadata": {},
   "source": [
    "### Создание"
   ]
  },
  {
   "cell_type": "code",
   "execution_count": 30,
   "metadata": {},
   "outputs": [],
   "source": [
    "import pandas as pd\n",
    "import sqlite3"
   ]
  },
  {
   "cell_type": "code",
   "execution_count": 4,
   "metadata": {},
   "outputs": [],
   "source": [
    "path = '..\\\\db\\\\recipies.xlsx'"
   ]
  },
  {
   "cell_type": "code",
   "execution_count": 20,
   "metadata": {},
   "outputs": [
    {
     "data": {
      "text/plain": [
       "Index(['recipe_id', 'food_category_id', 'meal_type_id', 'recipe_name',\n",
       "       'prep_time', 'cook_time', 'recipe_steps', 'link_to_original'],\n",
       "      dtype='object')"
      ]
     },
     "execution_count": 20,
     "metadata": {},
     "output_type": "execute_result"
    }
   ],
   "source": [
    "df_recipes = pd.read_excel(path, sheet_name='recipe')\n",
    "df_recipes.columns"
   ]
  },
  {
   "cell_type": "code",
   "execution_count": 9,
   "metadata": {},
   "outputs": [
    {
     "data": {
      "text/plain": [
       "Index(['food_category_id', 'food_category_name'], dtype='object')"
      ]
     },
     "execution_count": 9,
     "metadata": {},
     "output_type": "execute_result"
    }
   ],
   "source": [
    "df_food_category = pd.read_excel(path, sheet_name='food_category')\n",
    "df_food_category.columns"
   ]
  },
  {
   "cell_type": "code",
   "execution_count": 10,
   "metadata": {},
   "outputs": [
    {
     "data": {
      "text/plain": [
       "Index(['meal_type_id', 'meal_type_name'], dtype='object')"
      ]
     },
     "execution_count": 10,
     "metadata": {},
     "output_type": "execute_result"
    }
   ],
   "source": [
    "df_meal_type = pd.read_excel(path, sheet_name='meal_type')\n",
    "df_meal_type.columns"
   ]
  },
  {
   "cell_type": "code",
   "execution_count": 13,
   "metadata": {},
   "outputs": [
    {
     "data": {
      "text/plain": [
       "Index(['ingredient_id', 'ingredient_name'], dtype='object')"
      ]
     },
     "execution_count": 13,
     "metadata": {},
     "output_type": "execute_result"
    }
   ],
   "source": [
    "df_ingredients = pd.read_excel(path, sheet_name='ingredients')\n",
    "df_ingredients.columns"
   ]
  },
  {
   "cell_type": "code",
   "execution_count": 17,
   "metadata": {},
   "outputs": [
    {
     "data": {
      "text/plain": [
       "Index(['recipe_id', 'ingredient_id', 'ingredient_qty', 'measurement_id'], dtype='object')"
      ]
     },
     "execution_count": 17,
     "metadata": {},
     "output_type": "execute_result"
    }
   ],
   "source": [
    "df_recipe_ingredients = pd.read_excel(\n",
    "    path, sheet_name='recipe_ingredients',\n",
    "    names=['recipe_id', 'ingredient_id', 'ingredient_qty', 'measurement_id']\n",
    ")\n",
    "df_recipe_ingredients.columns"
   ]
  },
  {
   "cell_type": "code",
   "execution_count": 31,
   "metadata": {},
   "outputs": [],
   "source": [
    "# TODO: make as a separate python-scrypt-creator of a database based on the recipies.xlsx file\n",
    "# Create SQLite database connection\n",
    "conn = sqlite3.connect('..\\\\db\\\\recipes.db')\n",
    "\n",
    "# Write DataFrames to SQLite tables\n",
    "df_recipes.to_sql('recipe', conn, index=False, if_exists='replace')\n",
    "df_food_category.to_sql('food_category', conn, index=False, if_exists='replace')\n",
    "df_meal_type.to_sql('meal_type', conn, index=False, if_exists='replace')\n",
    "df_ingredients.to_sql('ingredients', conn, index=False, if_exists='replace')\n",
    "df_recipe_ingredients.to_sql('recipe_ingredients', conn, index=False, if_exists='replace')\n",
    "df_measurements.to_sql('measurements', conn, index=False, if_exists='replace')\n",
    "\n",
    "# Close database connection\n",
    "conn.close()"
   ]
  },
  {
   "cell_type": "code",
   "execution_count": 36,
   "metadata": {},
   "outputs": [
    {
     "name": "stdout",
     "output_type": "stream",
     "text": [
      "0 (1, 'Хлопья кукурузные с молоком')\n",
      "1 (2, 'Гранола с йогуртом')\n",
      "2 (3, 'Оладьи без яиц')\n",
      "3 (4, 'Манная каша на молоке')\n",
      "4 (5, 'Рисовая каша на молоке')\n",
      "5 (6, 'Гречневая каша с молоком')\n",
      "6 (7, 'Овсяная каша на молоке')\n",
      "7 (8, 'Яйца в смятку')\n",
      "8 (9, 'Омлет')\n",
      "9 (10, 'Сырники жареные')\n",
      "10 (11, 'Сырники печёные')\n",
      "11 (12, 'Творожная запеканка')\n",
      "12 (13, 'Пшённая каша на молоке')\n",
      "13 (14, 'Блины со сметаной')\n",
      "14 (15, 'Салат «Витаминный»')\n",
      "15 (16, 'Салат «Греческий»')\n",
      "16 (17, 'Салат «Винегрет»')\n",
      "17 (18, 'Салат «Цезарь»')\n",
      "18 (19, 'Салат «Оливье»')\n",
      "19 (20, 'Салат «Мимоза»')\n",
      "20 (21, 'Салат «Сельдь под шубой»')\n",
      "21 (22, 'Салат свекольный с чесноком')\n",
      "22 (23, 'Суп-пюре с шампиньонами и картофелем')\n",
      "23 (24, 'Томатный суп с фрикадельками')\n",
      "24 (25, 'Борщ с индейкой')\n",
      "25 (26, 'Суп с фрикадельками из индейки и шпинатом')\n",
      "26 (27, 'Суп с фрикадельками из индейки и фасолью')\n",
      "27 (28, 'Суп с курицей, стручковой фасолью и грибами')\n",
      "28 (29, 'Уха по-фински')\n",
      "29 (30, 'Тыквенный крем-суп')\n",
      "30 (31, 'Суп-пюре с брокколи и куриным филе')\n",
      "31 (32, 'Сырный суп')\n",
      "32 (33, 'Курица в соусе тирияки с рисом')\n",
      "33 (34, 'Капуста с куриным филе')\n",
      "34 (35, 'Паста карбонара')\n",
      "35 (36, 'Ризотто с морепродуктами')\n",
      "36 (37, 'Плов с индейкой')\n",
      "37 (38, 'Стейки из форели с рисом')\n",
      "38 (39, 'Бефстроганоф с пюре')\n",
      "39 (40, 'Запеченые стейки из форели с пюре')\n",
      "40 (41, 'Картофель по-деревенски и куриные ножки в духовке')\n",
      "41 (42, 'Жаркое (картошка с мясом)')\n",
      "42 (43, 'Горшочки с мясом и картофелем')\n",
      "43 (44, 'Треска под сливочно-шпинатным соусом')\n",
      "44 (45, 'Горшочки с мясом, фасолью и грибами')\n",
      "45 (46, 'Куриные ножки тушеные с нутом и томатами')\n",
      "46 (47, 'Творог с вареньем')\n",
      "47 (48, 'Солянка')\n"
     ]
    }
   ],
   "source": [
    "# Example query: Retrieve all recipes with their names and preparation times\n",
    "\n",
    "# Create SQLite database connection\n",
    "conn = sqlite3.connect('..\\\\db\\\\recipes.db')\n",
    "\n",
    "# Create a cursor object to interact with the database\n",
    "cursor = conn.cursor()\n",
    "cursor.execute('SELECT recipe_id, recipe_name FROM recipe')\n",
    "\n",
    "# Fetch all rows from the result set\n",
    "rows = cursor.fetchall()\n",
    "\n",
    "# Print the fetched rows\n",
    "for i, row in enumerate(rows):\n",
    "    print(i, row)\n",
    "\n",
    "# Close cursor and database connection\n",
    "cursor.close()\n",
    "conn.close()"
   ]
  },
  {
   "cell_type": "markdown",
   "metadata": {},
   "source": [
    "### Работа с базой"
   ]
  },
  {
   "cell_type": "code",
   "execution_count": 1,
   "metadata": {},
   "outputs": [],
   "source": [
    "import os.path, time\n",
    "import sqlite3\n",
    "import json"
   ]
  },
  {
   "cell_type": "code",
   "execution_count": 3,
   "metadata": {},
   "outputs": [
    {
     "name": "stdout",
     "output_type": "stream",
     "text": [
      "[(5, 3, 1, 'Рисовая каша на молоке', 3.0, 30.0, 'Промыть рис в холодной воде. Высыпать промытый рис в кастрюлю. Добавить воду. Довести воду до кипения. Добавить соль. Перемешать. Варить до выкипания воды (примерно 10 минут). Добавить молоко. Уменьшить огонь / мощность плиты. Варить 10 минут, периодически помешивая. Добавить сахар и сливочное масло. Выключить плиту. Накрыть кастрюлю крышкой. Дать настояться 10 минут.', 'https://www.russianfood.com/recipes/recipe.php?rid=160677')]\n"
     ]
    }
   ],
   "source": [
    "# Selecting dishes for a week\n",
    "connection = sqlite3.connect('../db/recipes.db')\n",
    "cursor = connection.cursor()\n",
    "\n",
    "meal_types = ['Завтрак', 'Обед или ужин', 'Обед или ужин']\n",
    "for meal_type in meal_types:\n",
    "    r_id = 5\n",
    "    query = f'SELECT * FROM recipe WHERE recipe_id = {r_id}'\n",
    "\n",
    "cursor.execute(query)\n",
    "# Fetch all rows from the result set\n",
    "rows = cursor.fetchall()\n",
    "print(rows)\n",
    "\n",
    "# Close cursor and database connection\n",
    "cursor.close()\n",
    "connection.close()"
   ]
  },
  {
   "cell_type": "code",
   "execution_count": 4,
   "metadata": {},
   "outputs": [
    {
     "ename": "NameError",
     "evalue": "name 'file' is not defined",
     "output_type": "error",
     "traceback": [
      "\u001b[1;31m---------------------------------------------------------------------------\u001b[0m",
      "\u001b[1;31mNameError\u001b[0m                                 Traceback (most recent call last)",
      "Cell \u001b[1;32mIn[4], line 1\u001b[0m\n\u001b[1;32m----> 1\u001b[0m \u001b[38;5;28mprint\u001b[39m(\u001b[38;5;124m\"\u001b[39m\u001b[38;5;124mlast modified: \u001b[39m\u001b[38;5;132;01m%s\u001b[39;00m\u001b[38;5;124m\"\u001b[39m \u001b[38;5;241m%\u001b[39m time\u001b[38;5;241m.\u001b[39mctime(os\u001b[38;5;241m.\u001b[39mpath\u001b[38;5;241m.\u001b[39mgetmtime(file)))\n\u001b[0;32m      2\u001b[0m \u001b[38;5;28mprint\u001b[39m(\u001b[38;5;124m\"\u001b[39m\u001b[38;5;124mcreated: \u001b[39m\u001b[38;5;132;01m%s\u001b[39;00m\u001b[38;5;124m\"\u001b[39m \u001b[38;5;241m%\u001b[39m time\u001b[38;5;241m.\u001b[39mctime(os\u001b[38;5;241m.\u001b[39mpath\u001b[38;5;241m.\u001b[39mgetctime(file)))\n",
      "\u001b[1;31mNameError\u001b[0m: name 'file' is not defined"
     ]
    }
   ],
   "source": [
    "print(\"last modified: %s\" % time.ctime(os.path.getmtime(file)))\n",
    "print(\"created: %s\" % time.ctime(os.path.getctime(file)))"
   ]
  },
  {
   "cell_type": "code",
   "execution_count": 13,
   "metadata": {},
   "outputs": [
    {
     "name": "stdout",
     "output_type": "stream",
     "text": [
      "фарш из мяса индейки - 125.0 г\n",
      "картофель - 125.0 г\n",
      "подмидор - 87.5 г\n",
      "болгарский перец - 50.0 г\n",
      "томатная паста - 37.5 г\n",
      "лук репчатый - 37.5 г\n",
      "молотая паприка - 1.75 г\n",
      "сушёный укроп, лук и петрушка - 1.75 г\n",
      "соль - 0 г\n",
      "перец горошком - 0 г\n",
      "растительное масло - 0 г\n"
     ]
    }
   ],
   "source": [
    "# сколько порций? \n",
    "n = 4\n",
    "recipe_name = 'Томатный суп с фрикадельками'\n",
    "for ing, mass, in zip(db[recipe_name]['ingridients'], db[recipe_name]['ingredient_quantity']):\n",
    "    print(ing, '-', n * mass, 'г')"
   ]
  },
  {
   "cell_type": "markdown",
   "metadata": {},
   "source": [
    "## Первая версия (MVP)"
   ]
  },
  {
   "cell_type": "markdown",
   "metadata": {},
   "source": [
    "**Алгоритм для MVP**\n",
    "\n",
    "1. В конце каждой недели генерируется меню на следующую неделю.\n",
    "\n",
    "   - Из базы выбирается n_days=7 случайных блюд\n",
    "       - из категории \"Завтраки\" (`meal_type.meal_type_name = 'Завтрак'`)\n",
    "       - из категории \"Обеды\" (`meal_type.meal_type_name = 'Обед или ужин'`)\n",
    "       - из категории \"Ужины\" (`meal_type.meal_type_name = 'Обед или ужин'`)\n",
    "   - Формируем списки из id блюд и записываем их во временный файл (он нужен, чтобы восстановить план на неделю в случае отключения сервера и его перезагрузки). В файле проставляем дату его изменения (?).\n",
    "   - Если дата изменения файла не старше 7 дней, то используем его в качестве источника для формирования запросов, иначе генерируем новый.\n",
    "3. Высылаем сообщения.\n",
    "    1. Высылается меню в виде списка блюд: `ЗАВТРАКИ: ... ОБЕДЫ: УЖИНЫ: ...` \n",
    "    2. Высылается список покупок в виде списка продуктов и количества.\n",
    "    3. Высылается полное меню на завтра: тип, название, рецепт.\n",
    "    4. Ждём 24 часа и высылаем меню на следующий день и так до следующего конца недели.\n",
    "\n",
    "- #TODO: Нужен UI: с какого дня недели начинать\n",
    "- #TODO: Нужен UI: Нужно выбрать, на какие именно дни присылать рецепты, необязательно гототвить 7 дней в неделю (`n_days`).\n",
    "- #TODO: Нужен UI: Нужно выбрирать, какие прдукты пользователь ест или не ест (`preferred_ingredients`).\n",
    "- #TODO: Разные блюда на обед и ужин.\n",
    "- #TODO: Вместо временного файла с планом на неделю записывать этот план в базу данных пользователей. \n",
    "- #TODO: \n",
    "- #TODO: \n",
    "- #TODO:"
   ]
  },
  {
   "cell_type": "code",
   "execution_count": 5,
   "metadata": {},
   "outputs": [],
   "source": [
    "import sqlite3\n",
    "import random\n",
    "from datetime import datetime, timedelta\n",
    "import json\n",
    "import os\n",
    "\n",
    "db_path = '../data/recipes.db'"
   ]
  },
  {
   "cell_type": "markdown",
   "metadata": {},
   "source": [
    "### Выполнение 1 раз перед новой неделей\n",
    "\n",
    "https://stackoverflow.com/questions/43668806/python-how-to-automate-script-to-run-every-day-at-specific-time#43669809\n",
    "Выполнение этих скриптов должно быть раз в недею. Сделать cronjob.\n",
    "\n",
    "Here's how you can do it:\n",
    "    1. Open your terminal.\n",
    "    2. Type `crontab -e` and press Enter to edit your cron jobs.\n",
    "    3. Add the following line at the end of the file: `0 10 * * 0 /path/to/python3 /path/to/menu_generator.py`. Replace `/path/to/python3` with the path to your Python 3 interpreter, and `/path/to/menu_generator.py` with the path to your Python script menu_generator.py.\n",
    "    4. Save and exit the file.\n",
    "\n",
    "\n",
    "**Syntax Explanation**\n",
    "\n",
    "The cronjob syntax consists of five fields, representing different time units and scheduling intervals. Here's what each field in the example means:\n",
    "\n",
    "1. `Minute (0)`: Specifies the minute when the command will be executed. In this case, it's set to `0`, which means the command will be executed at the start of the hour.\n",
    "2. `Hour (10)`: Specifies the hour when the command will be executed. In this case, it's set to `10`, which means the command will be executed at 10:00 AM.\n",
    "3. `Day of the Month (*)`: Specifies the day of the month when the command will be executed. Here, it's set to `*`, which means any day of the month is acceptable. \n",
    "4. `Month ( *)`: Specifies the month when the command will be executed. Here, it's set to `*`, which means any month is acceptable.\n",
    "5. `Day of the Week (0)`: Specifies the day of the week when the command will be executed. In this case, it's set to `0`, which represents Sunday.\n",
    "\n",
    "\n",
    "Putting it all together, the cronjob syntax `0 10 * * 0` means the command will be executed at 10:00 AM every Sunday. \n",
    "So, in our example, the cronjob is set to run the command `/path/to/python3 /path/to/menu_generator.py` every Sunday at 10:00 AM.\n",
    "\n"
   ]
  },
  {
   "cell_type": "code",
   "execution_count": 6,
   "metadata": {},
   "outputs": [
    {
     "data": {
      "text/plain": [
       "{'breakfast': [12, 47, 7, 1, 13, 10, 14],\n",
       " 'lunch': [40, 17, 23, 22, 44, 28, 34],\n",
       " 'dinner': [42, 30, 19, 20, 16, 41, 17],\n",
       " 'week_number': 18,\n",
       " 'year': 2024}"
      ]
     },
     "execution_count": 6,
     "metadata": {},
     "output_type": "execute_result"
    }
   ],
   "source": [
    "# Define SQLite query\n",
    "GET_RANDOM_RECIPES = \"\"\"\n",
    "SELECT r.recipe_id\n",
    "FROM recipe r\n",
    "JOIN meal_type m ON r.meal_type_id = m.meal_type_id\n",
    "WHERE {}\n",
    "ORDER BY RANDOM() LIMIT ?\n",
    "\"\"\"\n",
    "\n",
    "def lst_to_str(lst: list) -> str:\n",
    "    \"\"\"\n",
    "    Convert a list of elements to a string representation.\n",
    "\n",
    "    Args:\n",
    "        lst (list): The list of elements to be converted to a string.\n",
    "\n",
    "    Returns:\n",
    "        str: A string representation of the input list with elements enclosed in parentheses\n",
    "             and separated by commas.\n",
    "\n",
    "    Examples:\n",
    "        >>> lst_to_str([40, 41, 31, 43, 20, 23, 38])\n",
    "        '(40, 41, 31, 43, 20, 23, 38)'\n",
    "        >>> lst_to_str(['apple', 'banana', 'cherry'])\n",
    "        \"('apple', 'banana', 'cherry')\"\n",
    "        >>> lst_to_str([])\n",
    "        '()'\n",
    "\n",
    "    Note:\n",
    "        - If the input list is empty, an empty string with parentheses '()' will be returned.\n",
    "        - Elements in the list will be converted to their string representations using the str() function.\n",
    "    \"\"\"\n",
    "    return '(' + ', '.join(map(str, lst)) + ')'\n",
    "\n",
    "# Function to generate menu for the week\n",
    "def generate_weekly_menu():\n",
    "    \"\"\"\n",
    "    Generate a weekly menu by selecting random recipes for each meal type.\n",
    "\n",
    "    This function queries the database to retrieve random recipe IDs for each\n",
    "    meal type (breakfast, lunch, and dinner) based on specified conditions.\n",
    "    The conditions ensure that for breakfast, only breakfast recipes are\n",
    "    selected, while for lunch and dinner, recipes can be chosen from a broader\n",
    "    category. Additionally, dinner recipes that have already been selected for\n",
    "    lunch in the week are excluded.\n",
    "\n",
    "    Returns:\n",
    "        dict: A dictionary containing meal types as keys and lists of recipe\n",
    "              IDs as values. Each list represents the selected recipes for\n",
    "              the corresponding meal type. The dictionary also includes a\n",
    "              'week_number' key, indicating the number of the current week\n",
    "              in the year, and a 'year' key, indicating the current year.\n",
    "\n",
    "\n",
    "    Example usage:\n",
    "        menu = generate_weekly_menu()\n",
    "        print(menu)\n",
    "    \"\"\"\n",
    "    menu = dict()\n",
    "    recipe_ids = list()\n",
    "    # Meal types and corresponding conditions\n",
    "    meal_types = ['breakfast', 'lunch', 'dinner']\n",
    "    where_conditions = [\n",
    "        \"m.meal_type_name = 'Завтрак'\",\n",
    "        \"m.meal_type_name = 'Обед или ужин'\",\n",
    "        f\"m.meal_type_name = 'Обед или ужин' AND r.recipe_id NOT IN {lst_to_str(recipe_ids)}\" \n",
    "    ]\n",
    "\n",
    "    for meal_type, condition in zip(meal_types, where_conditions):\n",
    "        # Execute SQL query to fetch random recipe IDs\n",
    "        query = GET_RANDOM_RECIPES.format(condition)\n",
    "        # Fetch recipe_ids and extract IDs from tuples\n",
    "        recipe_ids = [id[0] for id in cursor.execute(query, (7,)).fetchall()]\n",
    "        # Store the selected recipe IDs for the current meal type\n",
    "        menu[meal_type] = recipe_ids\n",
    "\n",
    "    # Get the current week number and year\n",
    "    current_date = datetime.now()\n",
    "    week_number = current_date.isocalendar()[1]\n",
    "    year = current_date.year\n",
    "\n",
    "    # Add week number and year to the menu dictionary\n",
    "    menu['week_number'] = week_number\n",
    "    menu['year'] = year\n",
    "    # TODO: Add user Id to the output dictionary\n",
    "    \n",
    "    return menu\n",
    "\n",
    "\n",
    "# Initialize SQLite database connection\n",
    "with sqlite3.connect(db_path) as connection:\n",
    "    cursor = connection.cursor()\n",
    "    menu = generate_weekly_menu()\n",
    "\n",
    "menu"
   ]
  },
  {
   "cell_type": "code",
   "execution_count": 7,
   "metadata": {},
   "outputs": [],
   "source": [
    "# Function to write menu to JSON file\n",
    "def write_menu_to_json(menu, path='weekly_menu.json'):\n",
    "    \"\"\"\n",
    "    Write the menu dictionary to a JSON file.\n",
    "\n",
    "    Args:\n",
    "        menu (dict): A dictionary containing the menu data.\n",
    "        path (str): Optional. The path to the JSON file. Default is 'weekly_menu.json'.\n",
    "\n",
    "    Example usage:\n",
    "        write_menu_to_json(menu, 'menu.json')\n",
    "    \"\"\"\n",
    "    with open(path, 'w') as file:\n",
    "        json.dump(menu, file, indent=4)\n",
    "\n",
    "write_menu_to_json(menu)"
   ]
  },
  {
   "cell_type": "code",
   "execution_count": null,
   "metadata": {},
   "outputs": [],
   "source": []
  },
  {
   "cell_type": "code",
   "execution_count": null,
   "metadata": {},
   "outputs": [],
   "source": [
    "# Function to send messages\n",
    "def send_messages():\n",
    "    # Read menu from JSON file\n",
    "    with open('weekly_menu.json', 'r') as file:\n",
    "        menu = json.load(file)\n",
    "\n",
    "    # Send menu as a list of dishes\n",
    "    send_menu(menu)\n",
    "\n",
    "    # Send shopping list\n",
    "    send_shopping_list(menu)\n",
    "\n",
    "    # Send full menu for tomorrow\n",
    "    tomorrow_menu = get_tomorrow_menu()\n",
    "    send_tomorrow_menu(tomorrow_menu)\n",
    "\n",
    "# Function to send menu as a list of dishes\n",
    "def send_menu(menu):\n",
    "    print(\"Sending weekly menu:\")\n",
    "    print(menu)\n",
    "\n",
    "# Function to send shopping list\n",
    "def send_shopping_list(menu):\n",
    "    print(\"Sending shopping list:\")\n",
    "    # Extract ingredients from menu and send them\n",
    "    ingredients = extract_ingredients(menu)\n",
    "    print(ingredients)\n",
    "\n",
    "# Function to extract ingredients from menu\n",
    "def extract_ingredients(menu):\n",
    "    # Simulated extraction of ingredients from recipes in the menu\n",
    "    return ['Ingredient 1', 'Ingredient 2', 'Ingredient 3']\n",
    "\n",
    "# Function to get full menu for tomorrow\n",
    "def get_tomorrow_menu():\n",
    "    # Simulated fetching of menu for tomorrow from the generated weekly menu\n",
    "    with open('weekly_menu.json', 'r') as file:\n",
    "        weekly_menu = json.load(file)\n",
    "    return weekly_menu.get('Обед или ужин', '')\n",
    "\n",
    "# Function to send full menu for tomorrow\n",
    "def send_tomorrow_menu(tomorrow_menu):\n",
    "    print(\"Sending menu for tomorrow:\")\n",
    "    print(tomorrow_menu)\n",
    "\n",
    "# Check if weekly menu file exists and is up to date\n",
    "def is_weekly_menu_up_to_date():\n",
    "    if not os.path.exists('weekly_menu.json'):\n",
    "        return False\n",
    "    else:\n",
    "        last_modified_time = os.path.getmtime('weekly_menu.json')\n",
    "        last_modified_date = datetime.fromtimestamp(last_modified_time).date()\n",
    "        current_date = datetime.now().date()\n",
    "        return (current_date - last_modified_date) <= timedelta(days=7)\n",
    "\n",
    "# Main function\n",
    "def main():\n",
    "    if not is_weekly_menu_up_to_date():\n",
    "        weekly_menu = generate_weekly_menu()\n",
    "        write_menu_to_json(weekly_menu)\n",
    "    send_messages()\n",
    "\n",
    "# Run the main function\n",
    "main()\n",
    "\n",
    "# Close database connection\n",
    "conn.close()\n"
   ]
  },
  {
   "cell_type": "code",
   "execution_count": null,
   "metadata": {},
   "outputs": [],
   "source": []
  },
  {
   "cell_type": "code",
   "execution_count": null,
   "metadata": {},
   "outputs": [],
   "source": []
  },
  {
   "cell_type": "code",
   "execution_count": 4,
   "metadata": {},
   "outputs": [],
   "source": [
    "import sqlite3\n",
    "import random\n",
    "from datetime import datetime, timedelta\n",
    "import json\n",
    "import os\n",
    "\n",
    "db_path = '../db/recipes.db'"
   ]
  },
  {
   "cell_type": "code",
   "execution_count": null,
   "metadata": {},
   "outputs": [],
   "source": [
    "# Initialize SQLite database connection\n",
    "conn = sqlite3.connect(db_path)\n",
    "cursor = conn.cursor()\n",
    "\n",
    "# Define SQLite queries\n",
    "GET_RANDOM_RECIPES = '''\n",
    "SELECT r.recipe_name, r.recipe_steps, r.link_to_original, m.meal_type_name\n",
    "FROM recipe r\n",
    "JOIN meal_type m ON r.meal_type_id = m.meal_type_id\n",
    "WHERE m.meal_type_name = ?\n",
    "ORDER BY RANDOM() LIMIT ?\n",
    "'''\n",
    "\n",
    "# Function to generate menu for the week\n",
    "def generate_weekly_menu():\n",
    "    menu = {}\n",
    "    for meal_type in ['Завтрак', 'Обед или ужин', 'Обед или ужин']:\n",
    "        recipes = cursor.execute(GET_RANDOM_RECIPES, (meal_type, 7)).fetchall()\n",
    "        menu[meal_type] = recipes\n",
    "    return menu\n",
    "\n",
    "# Function to write menu to JSON file\n",
    "def write_menu_to_json(menu):\n",
    "    with open('weekly_menu.json', 'w') as file:\n",
    "        json.dump(menu, file, indent=4)\n",
    "\n",
    "# Function to send messages\n",
    "def send_messages():\n",
    "    # Read menu from JSON file\n",
    "    with open('weekly_menu.json', 'r') as file:\n",
    "        menu = json.load(file)\n",
    "\n",
    "    # Send menu as a list of dishes\n",
    "    send_menu(menu)\n",
    "\n",
    "    # Send shopping list\n",
    "    send_shopping_list(menu)\n",
    "\n",
    "    # Send full menu for tomorrow\n",
    "    tomorrow_menu = get_tomorrow_menu()\n",
    "    send_tomorrow_menu(tomorrow_menu)\n",
    "\n",
    "# Function to send menu as a list of dishes\n",
    "def send_menu(menu):\n",
    "    print(\"Sending weekly menu:\")\n",
    "    print(menu)\n",
    "\n",
    "# Function to send shopping list\n",
    "def send_shopping_list(menu):\n",
    "    print(\"Sending shopping list:\")\n",
    "    # Extract ingredients from menu and send them\n",
    "    ingredients = extract_ingredients(menu)\n",
    "    print(ingredients)\n",
    "\n",
    "# Function to extract ingredients from menu\n",
    "def extract_ingredients(menu):\n",
    "    # Simulated extraction of ingredients from recipes in the menu\n",
    "    return ['Ingredient 1', 'Ingredient 2', 'Ingredient 3']\n",
    "\n",
    "# Function to get full menu for tomorrow\n",
    "def get_tomorrow_menu():\n",
    "    # Simulated fetching of menu for tomorrow from the generated weekly menu\n",
    "    with open('weekly_menu.json', 'r') as file:\n",
    "        weekly_menu = json.load(file)\n",
    "    return weekly_menu.get('Обед или ужин', '')\n",
    "\n",
    "# Function to send full menu for tomorrow\n",
    "def send_tomorrow_menu(tomorrow_menu):\n",
    "    print(\"Sending menu for tomorrow:\")\n",
    "    print(tomorrow_menu)\n",
    "\n",
    "# Check if weekly menu file exists and is up to date\n",
    "def is_weekly_menu_up_to_date():\n",
    "    if not os.path.exists('weekly_menu.json'):\n",
    "        return False\n",
    "    else:\n",
    "        last_modified_time = os.path.getmtime('weekly_menu.json')\n",
    "        last_modified_date = datetime.fromtimestamp(last_modified_time).date()\n",
    "        current_date = datetime.now().date()\n",
    "        return (current_date - last_modified_date) <= timedelta(days=7)\n",
    "\n",
    "# Main function\n",
    "def main():\n",
    "    if not is_weekly_menu_up_to_date():\n",
    "        weekly_menu = generate_weekly_menu()\n",
    "        write_menu_to_json(weekly_menu)\n",
    "    send_messages()\n",
    "\n",
    "# Run the main function\n",
    "main()\n",
    "\n",
    "# Close database connection\n",
    "conn.close()\n"
   ]
  },
  {
   "cell_type": "markdown",
   "metadata": {},
   "source": [
    "## Запуск скрипта по распианию\n",
    "\n",
    "https://www.geeksforgeeks.org/scheduling-python-scripts-on-linux/"
   ]
  },
  {
   "cell_type": "markdown",
   "metadata": {},
   "source": [
    "To automate the script using CRON, you can modify the script to execute the desired functionality and then create a CRON job to run the script at specific intervals. Here's the modified version of the Python script that should be run using CRON:\n",
    "\n",
    "\n",
    "### Setting Up CRON Job:\n",
    "\n",
    "1. Open your terminal or SSH into your server.\n",
    "2. Open the CRON table for editing using the command:\n",
    "   ```\n",
    "   crontab -e\n",
    "   ```\n",
    "3. Add a new CRON job to schedule the script to run every day at a specific time. For example, to run the script every day at 6 PM, add the following line to the CRON table:\n",
    "   ```\n",
    "   0 18 * * * /path/to/python3 /path/to/recipe_bot.py\n",
    "   ```\n",
    "   Replace `/path/to/python3` with the path to your Python 3 interpreter and `/path/to/recipe_bot.py` with the full path to your Python script.\n",
    "4. Save and exit the editor.\n",
    "\n",
    "Now, the CRON job will run the `recipe_bot.py` script every day at 6 PM. Make sure to adjust the CRON schedule and file paths according to your requirements and server setup."
   ]
  },
  {
   "cell_type": "markdown",
   "metadata": {},
   "source": [
    "In this script, sent recipes are logged in a file named recipe_bot.log along with timestamps. The get_last_sent_timestamp function reads the log file to retrieve the timestamp of the last sent recipe, allowing the script to resume sending recipes from the correct point.\n",
    "\n",
    "Make sure to adjust the log file path, log format, and content according to your specific requirements. This approach simplifies the setup and provides a straightforward way to maintain a history of sent recipes."
   ]
  },
  {
   "cell_type": "code",
   "execution_count": null,
   "metadata": {},
   "outputs": [],
   "source": [
    "import os\n",
    "import random\n",
    "import logging\n",
    "from datetime import datetime, timedelta\n",
    "from telegram import Bot\n",
    "\n",
    "# Configure logging\n",
    "logging.basicConfig(filename='recipe_bot.log', level=logging.INFO, format='%(asctime)s - %(levelname)s - %(message)s')\n",
    "\n",
    "# Define SQLite queries\n",
    "GET_WEEKLY_RECIPES = 'SELECT recipe_name FROM recipes ORDER BY RANDOM() LIMIT 7'\n",
    "GET_DAILY_RECIPES = 'SELECT recipe_name FROM recipes ORDER BY RANDOM() LIMIT 3'\n",
    "\n",
    "# Define Telegram bot token and chat ID\n",
    "TELEGRAM_TOKEN = 'YOUR_TELEGRAM_BOT_TOKEN'\n",
    "CHAT_ID = 'YOUR_CHAT_ID'\n",
    "\n",
    "# Helper function to send messages\n",
    "def send_message(recipes):\n",
    "    bot = Bot(token=TELEGRAM_TOKEN)\n",
    "    message = \"\\n\".join(recipes)\n",
    "    bot.send_message(chat_id=CHAT_ID, text=message)\n",
    "    # Log sent recipes\n",
    "    logging.info(f'Sent recipes: {recipes}')\n",
    "\n",
    "# Get last sent recipe timestamp from the log file\n",
    "def get_last_sent_timestamp():\n",
    "    try:\n",
    "        with open('recipe_bot.log', 'r') as log_file:\n",
    "            lines = log_file.readlines()\n",
    "            if lines:\n",
    "                last_line = lines[-1]\n",
    "                timestamp_str = last_line.split(' - ')[0]\n",
    "                return datetime.strptime(timestamp_str, '%Y-%m-%d %H:%M:%S,%f')\n",
    "    except FileNotFoundError:\n",
    "        pass\n",
    "    return None\n",
    "\n",
    "# Get weekly recipes and send them\n",
    "def send_weekly_recipes():\n",
    "    recipes = cursor.execute(GET_WEEKLY_RECIPES).fetchall()\n",
    "    recipes = [recipe[0] for recipe in recipes]\n",
    "    send_message(recipes)\n",
    "\n",
    "# Get daily recipes and send them\n",
    "def send_daily_recipes():\n",
    "    recipes = cursor.execute(GET_DAILY_RECIPES).fetchall()\n",
    "    recipes = [recipe[0] for recipe in recipes]\n",
    "    send_message(recipes)\n",
    "\n",
    "# Check current day and send appropriate recipes\n",
    "current_day = datetime.now().weekday()\n",
    "\n",
    "last_sent_timestamp = get_last_sent_timestamp()\n",
    "\n",
    "if current_day == 6:  # Sunday (Index 6 in Python's datetime)\n",
    "    send_weekly_recipes()\n",
    "else:\n",
    "    if last_sent_timestamp is None or (datetime.now() - last_sent_timestamp).days > 1:\n",
    "        send_daily_recipes()\n"
   ]
  },
  {
   "cell_type": "markdown",
   "metadata": {},
   "source": [
    "## Восстановаление после аварийного завершения программы"
   ]
  },
  {
   "cell_type": "markdown",
   "metadata": {},
   "source": [
    "Нужно подготовиться к выключению сервера.\n",
    "\n",
    "`random_state` должно быть задано конкретным числом\n",
    "\n",
    "Можно каждое \n",
    "* расписание на неделю\n",
    "* каждое отправленное сообщение \n",
    "логировать и ввести счётчики отработавших циклов. \n",
    "\n",
    "После перезапуска програмы отпарвить сообщение и сбое на сервере и начать пролграмму с тех значений счётчика, на которых программа остановилась в прошлый раз - эти значения можно взять из логов.\n",
    "\n",
    "А как быть когда много пользователей? В логах прописывать ещё и id пользователей"
   ]
  },
  {
   "cell_type": "markdown",
   "metadata": {},
   "source": [
    "## Ссылки, которые помогли\n",
    "* https://realpython.com/beautiful-soup-web-scraper-python/\n",
    "* https://dbeaver.com/2022/06/23/import-data-with-dbeaver/\n",
    "* https://stackoverflow.com/questions/38463361/creating-a-recipe-database\n",
    "* https://stackoverflow.com/questions/54005899/how-do-i-properly-design-a-data-model-for-recipe-ingredient-using-mongodb\n",
    "* https://infoeda.com/skolko-v-stolovoj-lozhke-gramm-i-millilitrov-tablica.html"
   ]
  },
  {
   "cell_type": "markdown",
   "metadata": {},
   "source": [
    "## Чему научился:\n",
    "1. проектирование базы данных;\n",
    "2. использвоание SQL-запросов к базе данных в Python-коде;\n",
    "3. использование DBeaver в качестве СУБД;\n"
   ]
  },
  {
   "cell_type": "code",
   "execution_count": null,
   "metadata": {},
   "outputs": [],
   "source": []
  }
 ],
 "metadata": {
  "kernelspec": {
   "display_name": "Python 3 (ipykernel)",
   "language": "python",
   "name": "python3"
  },
  "language_info": {
   "codemirror_mode": {
    "name": "ipython",
    "version": 3
   },
   "file_extension": ".py",
   "mimetype": "text/x-python",
   "name": "python",
   "nbconvert_exporter": "python",
   "pygments_lexer": "ipython3",
   "version": "3.11.7"
  },
  "toc": {
   "base_numbering": 1,
   "nav_menu": {},
   "number_sections": true,
   "sideBar": true,
   "skip_h1_title": true,
   "title_cell": "Table of Contents",
   "title_sidebar": "Contents",
   "toc_cell": false,
   "toc_position": {},
   "toc_section_display": true,
   "toc_window_display": true
  },
  "varInspector": {
   "cols": {
    "lenName": 16,
    "lenType": 16,
    "lenVar": 40
   },
   "kernels_config": {
    "python": {
     "delete_cmd_postfix": "",
     "delete_cmd_prefix": "del ",
     "library": "var_list.py",
     "varRefreshCmd": "print(var_dic_list())"
    },
    "r": {
     "delete_cmd_postfix": ") ",
     "delete_cmd_prefix": "rm(",
     "library": "var_list.r",
     "varRefreshCmd": "cat(var_dic_list()) "
    }
   },
   "types_to_exclude": [
    "module",
    "function",
    "builtin_function_or_method",
    "instance",
    "_Feature"
   ],
   "window_display": false
  }
 },
 "nbformat": 4,
 "nbformat_minor": 4
}
